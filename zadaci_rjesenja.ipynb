{
 "cells": [
  {
   "cell_type": "code",
   "execution_count": 2,
   "metadata": {},
   "outputs": [],
   "source": [
    "import pandas as pd"
   ]
  },
  {
   "cell_type": "markdown",
   "metadata": {},
   "source": [
    "# CSVovi"
   ]
  },
  {
   "cell_type": "markdown",
   "metadata": {},
   "source": [
    "Svi csvovi su ;-separated. Imaju header i index.\n",
    "\n",
    "* inventura.csv\n",
    "    - popis artikala koje postoje u trgovini s njihovim IDovima\n",
    "* korisnici.csv\n",
    "    - popis korisnika, tj. mušterija\n",
    "* narudžbe.csv\n",
    "    - popis narudžbi. svaka narudžba ima svoj ID. ako narudžba ima više artikala, više puta se pojavljuje ID u tablici\n",
    "* po_korisnicima.csv\n",
    "    - popis korisnika i njihovih narudžbi. korisnici se mogu pojavljivati više puta.\n",
    "    - narudžba bi se trebala pojavljivati samo jednom, iako nije problem ako bude više puta"
   ]
  },
  {
   "cell_type": "markdown",
   "metadata": {},
   "source": [
    "# Korisnici"
   ]
  },
  {
   "cell_type": "markdown",
   "metadata": {},
   "source": [
    "1. Odredi koliko M i F mušterija trgovina ima (M: 46, F: 54)\n",
    "2. Odredi koliko M i F mušterija je kupilo nešto u trgovini (M: 46, F: 53) (hint: .isin(po_kor['korisnik_id']))\n",
    "3. Odredi koliko gradova se pojavljuje više puta u listi korisnika (26). (hint: .unique())\n",
    "4. Odredi koji grad se najčešće pojavljuje (Bjelovar) (hint: .mode())\n",
    "5. Ispiši imena korisnika iz najčešćeg grada (Vesna, Dragan, Valentina)\n"
   ]
  },
  {
   "cell_type": "markdown",
   "metadata": {},
   "source": [
    "# Inventura"
   ]
  },
  {
   "cell_type": "markdown",
   "metadata": {},
   "source": [
    "6. Odredi ima li više muških ili ženskih artikala (M: 63, F: 75)\n",
    "7. Odredi prosječnu i modalnu cijenu artikala u trgovini (mean: 38,9, mode: 31) (hint: .describe())\n",
    "8. Odredi prosječnu cijenu muških i ženskih artikala zasebno (mean M: 40,2, mean F: 37,8)\n",
    "9. Odredi koliko artikala dolazi u crnoj boji (29)\n",
    "10. Odredi koliko artikala dolazi u crnoj i u bijeloj boji (13) (hint: raastavi u dvije tablice)"
   ]
  },
  {
   "cell_type": "markdown",
   "metadata": {},
   "source": [
    "# Narudžbe"
   ]
  },
  {
   "cell_type": "markdown",
   "metadata": {},
   "source": [
    "11. Dodaj na narudžbe cijenu tog artikla. (hint: merge)\n",
    "12. Pomnoži cijenu s komadima (hint: doslovce df[col3] = df[col1] * df[col2] )\n",
    "13. Poveži narudžbe s korisnicima (hint: merge)\n",
    "14. Poveži korisnike sa županijama (hint: merge)\n",
    "15. Izračunaj koliko je svaki korisnik potrošio u trgovini (TEŽE!! hint: group, .sum())\n",
    "16. Poveži taj broj s korisnicima i županijama.\n",
    "17. Izračunaj iz koje županije je trgovina dobila najviše novca (TEŽE!! hint: group, .sum())"
   ]
  }
 ],
 "metadata": {
  "kernelspec": {
   "display_name": "pandas_demo",
   "language": "python",
   "name": "python3"
  },
  "language_info": {
   "codemirror_mode": {
    "name": "ipython",
    "version": 3
   },
   "file_extension": ".py",
   "mimetype": "text/x-python",
   "name": "python",
   "nbconvert_exporter": "python",
   "pygments_lexer": "ipython3",
   "version": "3.11.11"
  }
 },
 "nbformat": 4,
 "nbformat_minor": 2
}
