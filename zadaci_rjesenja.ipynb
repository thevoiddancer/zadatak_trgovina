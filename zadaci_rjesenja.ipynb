{
 "cells": [
  {
   "cell_type": "code",
   "execution_count": 14,
   "metadata": {},
   "outputs": [],
   "source": [
    "import pandas as pd"
   ]
  },
  {
   "cell_type": "markdown",
   "metadata": {},
   "source": [
    "# CSVovi"
   ]
  },
  {
   "cell_type": "markdown",
   "metadata": {},
   "source": [
    "Svi csvovi su ;-separated. Imaju header i index.\n",
    "\n",
    "* inventura.csv\n",
    "    - popis artikala koje postoje u trgovini s njihovim IDovima\n",
    "* korisnici.csv\n",
    "    - popis korisnika, tj. mušterija\n",
    "* narudžbe.csv\n",
    "    - popis narudžbi. svaka narudžba ima svoj ID. ako narudžba ima više artikala, više puta se pojavljuje ID u tablici\n",
    "* po_korisnicima.csv\n",
    "    - popis korisnika i njihovih narudžbi. korisnici se mogu pojavljivati više puta.\n",
    "    - narudžba bi se trebala pojavljivati samo jednom, iako nije problem ako bude više puta"
   ]
  },
  {
   "cell_type": "markdown",
   "metadata": {},
   "source": [
    "# Korisnici"
   ]
  },
  {
   "cell_type": "markdown",
   "metadata": {},
   "source": [
    "1. Odredi koliko M i F mušterija trgovina ima (M: 46, F: 54)\n",
    "2. Odredi koliko M i F mušterija je kupilo nešto u trgovini (M: 46, F: 53) (hint: .isin(po_kor['korisnik_id']))\n",
    "3. Odredi koliko gradova se pojavljuje više puta u listi korisnika (26). (hint: .unique())\n",
    "4. Odredi koji grad se najčešće pojavljuje (Bjelovar) (hint: .mode())\n",
    "5. Ispiši imena korisnika iz najčešćeg grada (Vesna, Dragan, Valentina)\n"
   ]
  },
  {
   "cell_type": "code",
   "execution_count": 15,
   "metadata": {},
   "outputs": [
    {
     "name": "stdout",
     "output_type": "stream",
     "text": [
      "spol\n",
      "F    50\n",
      "M    50\n",
      "Name: count, dtype: int64\n",
      "spol\n",
      "F    38\n",
      "M    33\n",
      "Name: count, dtype: int64\n",
      "Broj gradova koji se pojavljuju više od jednom na listi korisnika: 23\n",
      "0              Buje\n",
      "1              Hvar\n",
      "2          Karlovac\n",
      "3            Kutina\n",
      "4           Ludbreg\n",
      "5            Našice\n",
      "6             Poreč\n",
      "7              Pula\n",
      "8            Rovinj\n",
      "9     Sveta Nedelja\n",
      "10       Virovitica\n",
      "Name: grad, dtype: object\n",
      "['Manda Turčinov', 'Kata Tomić', 'Barbara Bralić']\n"
     ]
    }
   ],
   "source": [
    "mušterija = pd.read_csv('korisnici.csv', sep=';', index_col=0)\n",
    "#mušterija.head()\n",
    "#1)\n",
    "m_i_ž= mušterija['spol'].value_counts(dropna=True)\n",
    "print(m_i_ž)\n",
    "#2)\n",
    "korisnici = pd.read_csv('po_korisnicima.csv', sep=';', index_col=0)\n",
    "kupili = mušterija[mušterija['user id'].isin(korisnici['korisnik_id'])]\n",
    "broj_kupili = kupili['spol'].value_counts()\n",
    "print(broj_kupili)\n",
    "#3)\n",
    "gradovi= mušterija['grad'].value_counts(dropna=False)\n",
    "dupli_gradovi = gradovi[gradovi > 1]\n",
    "broj_duplih_gradova = len(dupli_gradovi)\n",
    "print(f'Broj gradova koji se pojavljuju više od jednom na listi korisnika: {broj_duplih_gradova}')\n",
    "#4)\n",
    "najcesci_grad = mušterija['grad'].mode()\n",
    "print(najcesci_grad)\n",
    "#5)\n",
    "imena_iz_najcesceg_grada = mušterija[mušterija['grad'] == najcesci_grad.iloc[0]]['ime']\n",
    "print(imena_iz_najcesceg_grada.tolist())"
   ]
  },
  {
   "cell_type": "markdown",
   "metadata": {},
   "source": [
    "# Inventura"
   ]
  },
  {
   "cell_type": "markdown",
   "metadata": {},
   "source": [
    "6. Odredi ima li više muških ili ženskih artikala (M: 63, F: 75)\n",
    "7. Odredi prosječnu i modalnu cijenu artikala u trgovini (mean: 38,9, mode: 31) (hint: .describe())\n",
    "8. Odredi prosječnu cijenu muških i ženskih artikala zasebno (mean M: 40,2, mean F: 37,8)\n",
    "9. Odredi koliko artikala dolazi u crnoj boji (29)\n",
    "10. Odredi koliko artikala dolazi u crnoj i u bijeloj boji (13) (hint: raastavi u dvije tablice)"
   ]
  },
  {
   "cell_type": "code",
   "execution_count": 16,
   "metadata": {},
   "outputs": [
    {
     "name": "stdout",
     "output_type": "stream",
     "text": [
      "spol\n",
      "Women    69\n",
      "Men      65\n",
      "Name: count, dtype: int64\n",
      "40.61940298507463\n",
      "0    37\n",
      "Name: cijena, dtype: int64\n",
      "spol\n",
      "Men      40.984615\n",
      "Women    40.275362\n",
      "Name: cijena, dtype: float64\n",
      "boja\n",
      "crna      29\n",
      "crvena    28\n",
      "plava     27\n",
      "bijela    27\n",
      "zelena    23\n",
      "Name: count, dtype: int64\n",
      "Broj artikala koji dolaze u crnoj i bijeloj boji: 56\n"
     ]
    }
   ],
   "source": [
    "#6)\n",
    "inventura = pd.read_csv('inventura.csv', sep=';' ,index_col=0 )\n",
    "#inventura.head()\n",
    "artikl = inventura['spol'].value_counts(dropna=False)\n",
    "print(artikl)\n",
    "#7)\n",
    "cijena_mean = inventura['cijena'].mean()\n",
    "print(cijena_mean)\n",
    "cijena_mode = inventura['cijena'].mode()\n",
    "print(cijena_mode)\n",
    "#8)\n",
    "prosjek_po_spolu = inventura.groupby('spol')['cijena'].mean()\n",
    "print(prosjek_po_spolu)\n",
    "#9)\n",
    "black = inventura['boja'].value_counts(dropna=False)\n",
    "print(black)\n",
    "#10)\n",
    "crna_i_bijela = inventura[inventura['boja'].isin(['crna', 'bijela'])]\n",
    "broj_crna_i_bijela = len(crna_i_bijela)\n",
    "print(f'Broj artikala koji dolaze u crnoj i bijeloj boji: {broj_crna_i_bijela}')"
   ]
  },
  {
   "cell_type": "markdown",
   "metadata": {},
   "source": [
    "# Narudžbe"
   ]
  },
  {
   "cell_type": "markdown",
   "metadata": {},
   "source": [
    "11. Dodaj na narudžbe cijenu tog artikla. (hint: merge)\n",
    "12. Pomnoži cijenu s komadima (hint: doslovce df[col3] = df[col1] * df[col2] )\n",
    "13. Poveži narudžbe s korisnicima (hint: merge)\n",
    "14. Poveži korisnike sa županijama (hint: merge)\n",
    "15. Izračunaj koliko je svaki korisnik potrošio u trgovini (TEŽE!! hint: group, .sum())\n",
    "16. Poveži taj broj s korisnicima i županijama.\n",
    "17. Izračunaj iz koje županije je trgovina dobila najviše novca (TEŽE!! hint: group, .sum())"
   ]
  },
  {
   "cell_type": "code",
   "execution_count": 17,
   "metadata": {},
   "outputs": [
    {
     "data": {
      "text/html": [
       "<div>\n",
       "<style scoped>\n",
       "    .dataframe tbody tr th:only-of-type {\n",
       "        vertical-align: middle;\n",
       "    }\n",
       "\n",
       "    .dataframe tbody tr th {\n",
       "        vertical-align: top;\n",
       "    }\n",
       "\n",
       "    .dataframe thead th {\n",
       "        text-align: right;\n",
       "    }\n",
       "</style>\n",
       "<table border=\"1\" class=\"dataframe\">\n",
       "  <thead>\n",
       "    <tr style=\"text-align: right;\">\n",
       "      <th></th>\n",
       "      <th>id</th>\n",
       "      <th>artikl</th>\n",
       "      <th>komada</th>\n",
       "    </tr>\n",
       "  </thead>\n",
       "  <tbody>\n",
       "    <tr>\n",
       "      <th>0</th>\n",
       "      <td>47299</td>\n",
       "      <td>21923</td>\n",
       "      <td>1</td>\n",
       "    </tr>\n",
       "    <tr>\n",
       "      <th>1</th>\n",
       "      <td>22181</td>\n",
       "      <td>22285</td>\n",
       "      <td>1</td>\n",
       "    </tr>\n",
       "    <tr>\n",
       "      <th>2</th>\n",
       "      <td>51646</td>\n",
       "      <td>29596</td>\n",
       "      <td>1</td>\n",
       "    </tr>\n",
       "    <tr>\n",
       "      <th>3</th>\n",
       "      <td>51646</td>\n",
       "      <td>48134</td>\n",
       "      <td>1</td>\n",
       "    </tr>\n",
       "    <tr>\n",
       "      <th>4</th>\n",
       "      <td>26229</td>\n",
       "      <td>98361</td>\n",
       "      <td>2</td>\n",
       "    </tr>\n",
       "  </tbody>\n",
       "</table>\n",
       "</div>"
      ],
      "text/plain": [
       "      id  artikl  komada\n",
       "0  47299   21923       1\n",
       "1  22181   22285       1\n",
       "2  51646   29596       1\n",
       "3  51646   48134       1\n",
       "4  26229   98361       2"
      ]
     },
     "execution_count": 17,
     "metadata": {},
     "output_type": "execute_result"
    }
   ],
   "source": [
    "#11)\n",
    "order = pd.read_csv('narudžbe.csv', sep=';', index_col=0)\n",
    "order.head()\n",
    "#pd.merge( inventura['cijena'], order, how='inner', on='id')\n",
    "#12)\n",
    "#order['ukupni_trošak'] = order['komada'] * order['cijena']\n",
    "#print(order['ukupni_trošak'])\n",
    "#13)\n",
    "#14)\n",
    "#15)\n",
    "#16)\n",
    "#17)\n",
    "\n",
    "\n"
   ]
  }
 ],
 "metadata": {
  "kernelspec": {
   "display_name": "base",
   "language": "python",
   "name": "python3"
  },
  "language_info": {
   "codemirror_mode": {
    "name": "ipython",
    "version": 3
   },
   "file_extension": ".py",
   "mimetype": "text/x-python",
   "name": "python",
   "nbconvert_exporter": "python",
   "pygments_lexer": "ipython3",
   "version": "3.11.5"
  }
 },
 "nbformat": 4,
 "nbformat_minor": 2
}
