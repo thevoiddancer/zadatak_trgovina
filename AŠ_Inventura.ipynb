{
 "cells": [
  {
   "cell_type": "code",
   "execution_count": 2,
   "metadata": {},
   "outputs": [
    {
     "name": "stdout",
     "output_type": "stream",
     "text": [
      "spol\n",
      "Women    75\n",
      "Men      63\n",
      "Name: count, dtype: int64\n"
     ]
    }
   ],
   "source": [
    "#6. Odredi ima li više muških ili ženskih artikala (M: 63, F: 75)\n",
    "\n",
    "import pandas as pd\n",
    "\n",
    "# Učitajte podatke\n",
    "df = pd.read_csv('/opt/repos/zadatak_trgovina/inventura.csv', delimiter=';')\n",
    "\n",
    "# Odaberi samo stupac 'spol'\n",
    "gender_column = df['spol']\n",
    "\n",
    "# Broj pojavljivanja artikala za svaki spol\n",
    "gender_counts = gender_column.value_counts()\n",
    "\n",
    "\n",
    "# Ispis broja muškaraca i žena\n",
    "print(gender_counts)"
   ]
  },
  {
   "cell_type": "code",
   "execution_count": null,
   "metadata": {},
   "outputs": [
    {
     "name": "stdout",
     "output_type": "stream",
     "text": [
      "count    138.000000\n",
      "mean      38.927536\n",
      "std        6.149758\n",
      "min       30.000000\n",
      "25%       33.250000\n",
      "50%       38.000000\n",
      "75%       45.000000\n",
      "max       50.000000\n",
      "Name: cijena, dtype: float64\n",
      "Prosječna cijena: 38.9\n",
      "Modalna cijena: 31\n"
     ]
    }
   ],
   "source": [
    "#7. Odredi prosječnu i modalnu cijenu artikala u trgovini (mean: 38,9, mode: 31) (hint: .describe())\n",
    "\n",
    "import pandas as pd\n",
    "\n",
    "# Učitajte podatke\n",
    "df = pd.read_csv('/opt/repos/zadatak_trgovina/inventura.csv', delimiter=';')  \n",
    "\n",
    "# Izračun prosječne cijene\n",
    "prosječna_cijena = df['cijena'].mean()\n",
    "\n",
    "# Izračun modalne cijene (najčešće pojavljivane)\n",
    "modalna_cijena = df['cijena'].mode()[0]  \n",
    "# Rezultati\n",
    "print(df['cijena'].describe())\n",
    "\n",
    "print(f\"Prosječna cijena: {prosječna_cijena:.1f}\")\n",
    "print(f\"Modalna cijena: {modalna_cijena}\")"
   ]
  },
  {
   "cell_type": "code",
   "execution_count": 21,
   "metadata": {},
   "outputs": [
    {
     "name": "stdout",
     "output_type": "stream",
     "text": [
      "Prosječna cijena muških artikala: 40.2\n",
      "Prosječna cijena ženskih artikala: 37.8\n"
     ]
    }
   ],
   "source": [
    "#8. Odredi prosječnu cijenu muških i ženskih artikala zasebno (mean M: 40,2, mean F: 37,8)\n",
    "import pandas as pd\n",
    "\n",
    "# Učitajte podatke\n",
    "df = pd.read_csv('/opt/repos/zadatak_trgovina/inventura.csv', delimiter=';')\n",
    "\n",
    "# Očisti podatke (uklanja razmake i pretvara 'spol' u mala slova)\n",
    "df['spol'] = df['spol'].astype(str).str.strip().str.lower()\n",
    "df['cijena'] = df['cijena'].astype(str).str.strip().str.replace(',', '.').astype(float)\n",
    "\n",
    "# Filtriranje i računanje prosjeka\n",
    "muski_artikli = df[df['spol'] == 'men']['cijena'].dropna()\n",
    "zenski_artikli = df[df['spol'] == 'women']['cijena'].dropna()\n",
    "\n",
    "# Ako nema podataka za određeni spol, postavi 0 umjesto NaN\n",
    "muska_cijena = muski_artikli.mean() if not muski_artikli.empty else 0\n",
    "zenska_cijena = zenski_artikli.mean() if not zenski_artikli.empty else 0\n",
    "\n",
    "# Rezultati\n",
    "print(f\"Prosječna cijena muških artikala: {muska_cijena:.1f}\")\n",
    "print(f\"Prosječna cijena ženskih artikala: {zenska_cijena:.1f}\")\n"
   ]
  },
  {
   "cell_type": "code",
   "execution_count": 31,
   "metadata": {},
   "outputs": [
    {
     "name": "stdout",
     "output_type": "stream",
     "text": [
      "Broj artikala u crnoj boji: 29\n"
     ]
    }
   ],
   "source": [
    "#9. Odredi koliko artikala dolazi u crnoj boji (29)\n",
    "\n",
    "import pandas as pd\n",
    "\n",
    "# Filtriranje i brojanje\n",
    "crna_boja = df[df['boja'] == 'crna']['boja'].count()\n",
    "\n",
    "# Rezultati\n",
    "print(f\"Broj artikala u crnoj boji: {crna_boja}\")\n",
    "\n"
   ]
  },
  {
   "cell_type": "code",
   "execution_count": null,
   "metadata": {},
   "outputs": [
    {
     "name": "stdout",
     "output_type": "stream",
     "text": [
      "Broj artikala u crnoj boji: 29\n",
      "Broj artikala u bijeloj boji: 23\n",
      "    Unnamed: 0 spol      tip      artikl     id  boja  cijena\n",
      "2            2  Men     Tops     T-shirt  64238  crna      50\n",
      "8            8  Men     Tops     Sweater  16422  crna      36\n",
      "12          12  Men     Tops      Hoodie  25708  crna      38\n",
      "14          14  Men  Bottoms        Jean  90978  crna      48\n",
      "18          18  Men  Bottoms  Dress pant  38712  crna      42\n",
      "    Unnamed: 0 spol        tip        artikl     id    boja  cijena\n",
      "0            0  Men       Tops       T-shirt  44097  bijela      50\n",
      "16          16  Men    Bottoms         Chino  28245  bijela      35\n",
      "17          17  Men    Bottoms    Dress pant  99694  bijela      36\n",
      "28          28  Men  Outerwear        Jacket  57658  bijela      43\n",
      "38          38  Men  Outerwear  Denim jacket  71534  bijela      46\n"
     ]
    }
   ],
   "source": [
    "#10. Odredi koliko artikala dolazi u crnoj i u bijeloj boji (13) (hint: raastavi u dvije tablice)\n",
    "import pandas as pd\n",
    "# Učitajte podatke\n",
    "df = pd.read_csv('/opt/repos/zadatak_trgovina/inventura.csv', delimiter=';')\n",
    "# Očisti podatke (uklanja razmake i pretvara 'boja' u mala slova)\n",
    "df['boja'] = df['boja'].astype(str).str.strip().str.lower()\n",
    "# Filtriranje i brojanje\n",
    "crna_boja = df[df['boja'] == 'crna']['boja'].count()\n",
    "bijela_boja = df[df['boja'] == 'bijela']['boja'].count()\n",
    "\n",
    "# Kreiranje tablica za crne i bijele artikle\n",
    "crna_tablica = df[df['boja'] == 'crna']\n",
    "bijela_tablica = df[df['boja'] == 'bijela']\n",
    "\n",
    "# Rezultati\n",
    "print(f\"Broj artikala u crnoj boji: {crna_boja}\")\n",
    "print(f\"Broj artikala u bijeloj boji: {bijela_boja}\")\n",
    "\n",
    "# Spremanje rezultata:\n",
    "print(crna_tablica.head())  \n",
    "print(bijela_tablica.head())  "
   ]
  }
 ],
 "metadata": {
  "kernelspec": {
   "display_name": "Python 3",
   "language": "python",
   "name": "python3"
  },
  "language_info": {
   "codemirror_mode": {
    "name": "ipython",
    "version": 3
   },
   "file_extension": ".py",
   "mimetype": "text/x-python",
   "name": "python",
   "nbconvert_exporter": "python",
   "pygments_lexer": "ipython3",
   "version": "3.13.1"
  }
 },
 "nbformat": 4,
 "nbformat_minor": 2
}
