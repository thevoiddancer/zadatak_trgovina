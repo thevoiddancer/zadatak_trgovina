{
 "cells": [
  {
   "cell_type": "code",
   "execution_count": 5,
   "metadata": {},
   "outputs": [
    {
     "name": "stdout",
     "output_type": "stream",
     "text": [
      "spol\n",
      "F    54\n",
      "M    46\n",
      "Name: count, dtype: int64\n"
     ]
    }
   ],
   "source": [
    "#1. Odredi koliko M i F mušterija trgovina ima (M: 46, F: 54)\n",
    "\n",
    "import pandas as pd\n",
    "\n",
    "# Učitajte podatke\n",
    "df = pd.read_csv('/opt/repos/zadatak_trgovina/korisnici.csv', delimiter=';')\n",
    "\n",
    "# Odaberi samo stupac 'spol'\n",
    "gender_column = df['spol']\n",
    "\n",
    "# Broj pojavljivanja za svaki spol\n",
    "gender_counts = gender_column.value_counts()\n",
    "\n",
    "\n",
    "# Ispis broja muškaraca i žena\n",
    "print(gender_counts)\n"
   ]
  },
  {
   "cell_type": "code",
   "execution_count": 6,
   "metadata": {},
   "outputs": [
    {
     "name": "stdout",
     "output_type": "stream",
     "text": [
      "spol\n",
      "F    53\n",
      "M    46\n",
      "Name: count, dtype: int64\n"
     ]
    }
   ],
   "source": [
    "import pandas as pd\n",
    "\n",
    "#2. Odredi koliko M i F mušterija je kupilo nešto u trgovini (M: 46, F: 53) (hint: .isin(po_kor['korisnik_id']))    \n",
    "korisnici = pd.read_csv('/opt/repos/zadatak_trgovina/korisnici.csv', delimiter=';') \n",
    "po_korisnicima = pd.read_csv('/opt/repos/zadatak_trgovina/po_korisnicima.csv', delimiter=';') \n",
    "\n",
    "kupci = korisnici[korisnici['user id'].isin(po_korisnicima['korisnik_id'])]\n",
    "gender_counts = kupci['spol'].value_counts()\n",
    "print(gender_counts)"
   ]
  },
  {
   "cell_type": "code",
   "execution_count": null,
   "metadata": {},
   "outputs": [
    {
     "name": "stdout",
     "output_type": "stream",
     "text": [
      "Broj gradova koji se pojavljuju više puta: [3 2]\n"
     ]
    }
   ],
   "source": [
    "#3. Odredi koliko gradova se pojavljuje više puta u listi korisnika (26). (hint: .unique())\n",
    "\n",
    "import pandas as pd\n",
    "\n",
    "# Učitaj podatke\n",
    "korisnici = pd.read_csv('/opt/repos/zadatak_trgovina/korisnici.csv', delimiter=';')  \n",
    "\n",
    "# Broj pojavljivanja gradova u tablici\n",
    "city_counts = korisnici['grad'].value_counts()\n",
    "\n",
    "# Filtriram gradove koji se pojavljuju više od jednom\n",
    "cities_more_than_once = city_counts[city_counts > 1]\n",
    "\n",
    "# Jedinstveni gradovi koji se pojavljuju više puta\n",
    "unique_cities = cities_more_than_once.unique()\n",
    "\n",
    "# Ispis rezultata\n",
    "print(f\"Broj gradova koji se pojavljuju više puta: {unique_cities}\")\n",
    "\n",
    "\n",
    "\n"
   ]
  },
  {
   "cell_type": "code",
   "execution_count": 3,
   "metadata": {},
   "outputs": [
    {
     "name": "stdout",
     "output_type": "stream",
     "text": [
      "Index([';ime;spol;email;adresa;poštanski broj;grad;user id'], dtype='object')\n"
     ]
    }
   ],
   "source": [
    "print(korisnici.columns)"
   ]
  },
  {
   "cell_type": "code",
   "execution_count": null,
   "metadata": {},
   "outputs": [
    {
     "name": "stdout",
     "output_type": "stream",
     "text": [
      "Grad koji se najčešće pojavljuje: Bjelovar\n"
     ]
    }
   ],
   "source": [
    "#4. Odredi koji grad se najčešće pojavljuje (Bjelovar) (hint: .mode())\n",
    "\n",
    "import pandas as pd\n",
    "\n",
    "# Učitaj podatke\n",
    "korisnici = pd.read_csv('/opt/repos/zadatak_trgovina/korisnici.csv', delimiter=';')  \n",
    "\n",
    "# Najčešće pojavljivani grad\n",
    "most_common_city = korisnici['grad'].mode()[0]\n",
    "\n",
    "# Ispis rezultata\n",
    "print(f\"Grad koji se najčešće pojavljuje: {most_common_city}\")\n",
    "\n"
   ]
  },
  {
   "cell_type": "code",
   "execution_count": null,
   "metadata": {},
   "outputs": [
    {
     "name": "stdout",
     "output_type": "stream",
     "text": [
      "Imena korisnika iz najčešćeg grada (Bjelovar): Vesna Stojčević, Dragan Matokanović, Valentina Magić\n"
     ]
    }
   ],
   "source": [
    "#5. Ispiši imena korisnika iz najčešćeg grada (Vesna, Dragan, Valentina)\n",
    "import pandas as pd\n",
    "\n",
    "# Učitaj podatke\n",
    "korisnici = pd.read_csv('/opt/repos/zadatak_trgovina/korisnici.csv', delimiter=';')  \n",
    "\n",
    "# Najčešće pojavljivani grad\n",
    "most_common_city = korisnici['grad'].mode()[0]\n",
    "\n",
    "# Ispis imena korisnika iz najčešćeg grada\n",
    "user_names = korisnici[korisnici['grad'] == most_common_city]['ime'].tolist()\n",
    "print(f\"Imena korisnika iz najčešćeg grada ({most_common_city}): {', '.join(user_names)}\")\n"
   ]
  }
 ],
 "metadata": {
  "kernelspec": {
   "display_name": "Python 3",
   "language": "python",
   "name": "python3"
  },
  "language_info": {
   "codemirror_mode": {
    "name": "ipython",
    "version": 3
   },
   "file_extension": ".py",
   "mimetype": "text/x-python",
   "name": "python",
   "nbconvert_exporter": "python",
   "pygments_lexer": "ipython3",
   "version": "3.13.1"
  }
 },
 "nbformat": 4,
 "nbformat_minor": 2
}
